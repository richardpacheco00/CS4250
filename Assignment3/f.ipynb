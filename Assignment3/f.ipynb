{
 "cells": [
  {
   "cell_type": "code",
   "execution_count": 11,
   "metadata": {},
   "outputs": [
    {
     "data": {
      "text/plain": [
       "Counter({'': 7, 'brown': 2, 'the': 1, 'quick': 1})"
      ]
     },
     "execution_count": 11,
     "metadata": {},
     "output_type": "execute_result"
    }
   ],
   "source": [
    "from collections import Counter\n",
    "import string\n",
    "\n",
    "Counter(\"the? quick @ Brown# , brown, !    \".translate(str.maketrans('', '', string.punctuation)).lower().split(\" \"))"
   ]
  },
  {
   "cell_type": "code",
   "execution_count": 9,
   "metadata": {},
   "outputs": [
    {
     "data": {
      "text/plain": [
       "'the quick  Brown  brown '"
      ]
     },
     "execution_count": 9,
     "metadata": {},
     "output_type": "execute_result"
    }
   ],
   "source": [
    "\"the? quick @ Brown# , brown, !\".translate(str.maketrans('', '', string.punctuation))"
   ]
  },
  {
   "cell_type": "code",
   "execution_count": 15,
   "metadata": {},
   "outputs": [
    {
     "name": "stdout",
     "output_type": "stream",
     "text": [
      "Connected\n"
     ]
    },
    {
     "data": {
      "text/plain": [
       "'{}'"
      ]
     },
     "execution_count": 15,
     "metadata": {},
     "output_type": "execute_result"
    }
   ],
   "source": [
    "from pymongo import MongoClient\n",
    "from collections import Counter \n",
    "import string\n",
    "\n",
    "host = 'localhost'\n",
    "PORT = 27017\n",
    "\n",
    "def connectDataBase():\n",
    "\n",
    "    # Create a database connection object using pymongo\n",
    "    # --> add your Python code here\n",
    "    client = MongoClient(host, PORT)\n",
    "    client.admin.command('ping')\n",
    "    print(\"Connected\")\n",
    "    db = client.database_name\n",
    "    return db\n",
    "\n",
    "def getIndex(col):\n",
    "\n",
    "    # Query the database to return the documents where each term occurs with their corresponding count. Output example:\n",
    "    # {'baseball':'Exercise:1','summer':'Exercise:1,California:1,Arizona:1','months':'Exercise:1,Discovery:3'}\n",
    "    # ...\n",
    "    # --> add your Python code here\n",
    "    idx = {}\n",
    "    for doc in col.find():\n",
    "        title = f\"{doc['title']}:{doc['doc']}\"\n",
    "        words = Counter(doc['Text'].translate(str.maketrans('', '', string.punctuation)).lower().split(\" \"))\n",
    "        for w in words: \n",
    "            if w == \"\":\n",
    "                pass\n",
    "            else: \n",
    "                \n",
    "                if w not in idx: \n",
    "                    idx[w] = title\n",
    "                else: \n",
    "                    idx[w] = idx[w] + f',{title}'\n",
    "\n",
    "    return str(idx) \n",
    "\n",
    "db = connectDataBase()\n",
    "documents = db.documents\n",
    "documents.delete_many( {} )\n",
    "getIndex(documents)"
   ]
  }
 ],
 "metadata": {
  "kernelspec": {
   "display_name": "Python 3",
   "language": "python",
   "name": "python3"
  },
  "language_info": {
   "codemirror_mode": {
    "name": "ipython",
    "version": 3
   },
   "file_extension": ".py",
   "mimetype": "text/x-python",
   "name": "python",
   "nbconvert_exporter": "python",
   "pygments_lexer": "ipython3",
   "version": "3.11.4"
  }
 },
 "nbformat": 4,
 "nbformat_minor": 2
}
