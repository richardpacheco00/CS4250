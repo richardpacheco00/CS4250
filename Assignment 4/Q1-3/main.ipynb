{
 "cells": [
  {
   "cell_type": "code",
   "execution_count": 1,
   "metadata": {},
   "outputs": [],
   "source": [
    "from bs4 import BeautifulSoup\n",
    "import re\n",
    "html = None\n",
    "with open(\"example.html\",\"r\") as file:\n",
    "    html = file.read()\n",
    "\n",
    "bs = BeautifulSoup(html, \"html.parser\")\n",
    "\n"
   ]
  },
  {
   "cell_type": "code",
   "execution_count": 2,
   "metadata": {},
   "outputs": [
    {
     "data": {
      "text/plain": [
       "'My first web page'"
      ]
     },
     "execution_count": 2,
     "metadata": {},
     "output_type": "execute_result"
    }
   ],
   "source": [
    "# a.\t[4 points]. The text of the HTML page title. Use the HTML tags to do this search. \n",
    "bs.title.text"
   ]
  },
  {
   "cell_type": "code",
   "execution_count": 13,
   "metadata": {},
   "outputs": [
    {
     "data": {
      "text/plain": [
       "'To my friends'"
      ]
     },
     "execution_count": 13,
     "metadata": {},
     "output_type": "execute_result"
    }
   ],
   "source": [
    "# b.\t[4 points]. The text of the second list item element \"li\" below \"To show off\"? Use the HTML tags to do this search. The output should be \"To my friends\". \n",
    "# first_li = bs.select_one(\"li:-soup-contains('To show off')\")\n",
    "# second_li = first_li.find_all_next(\"li\")[1]\n",
    "# second_li.text\n",
    "bs.select_one(\"li:-soup-contains('To show off')\").find_all_next(\"li\")[1].text"
   ]
  },
  {
   "cell_type": "code",
   "execution_count": 4,
   "metadata": {},
   "outputs": [
    {
     "data": {
      "text/plain": [
       "[<td>Row 1, cell 1</td>,\n",
       " <td>Row 1, cell 2<img src=\"http://www.bbb.com/badge2.gif\"/></td>,\n",
       " <td>Row 1, cell 3</td>]"
      ]
     },
     "execution_count": 4,
     "metadata": {},
     "output_type": "execute_result"
    }
   ],
   "source": [
    "# c.\t[4 points]. All cells of the first row of the table. Use the HTML tags to do this search. \n",
    "bs.find(\"tr\").find_all(\"td\")"
   ]
  },
  {
   "cell_type": "code",
   "execution_count": 5,
   "metadata": {},
   "outputs": [
    {
     "data": {
      "text/plain": [
       "'What this is tutorial'"
      ]
     },
     "execution_count": 5,
     "metadata": {},
     "output_type": "execute_result"
    }
   ],
   "source": [
    "# d.\t[4 points]. All h2 headings text that includes the word “tutorial”. Use the HTML tags and regex to do this search. \n",
    "bs.find_all(\"h2\", text=re.compile(r'tutorial', re.IGNORECASE))[0].text"
   ]
  },
  {
   "cell_type": "code",
   "execution_count": 6,
   "metadata": {},
   "outputs": [
    {
     "data": {
      "text/plain": [
       "['A simple page put together using HTML. ',\n",
       " 'To learn HTML',\n",
       " 'Because I have fallen in love with my computer and want to give her some HTML loving.']"
      ]
     },
     "execution_count": 6,
     "metadata": {},
     "output_type": "execute_result"
    }
   ],
   "source": [
    "# e.\t[4 points]. All text that includes the “HTML” word. Use the HTML text to do this search. \n",
    "bs.find_all(text=lambda text: \"HTML\" in text)"
   ]
  },
  {
   "cell_type": "code",
   "execution_count": 7,
   "metadata": {},
   "outputs": [
    {
     "data": {
      "text/plain": [
       "['Row 2, cell 1', 'Row 2, cell 2', 'Row 2, cell 3']"
      ]
     },
     "execution_count": 7,
     "metadata": {},
     "output_type": "execute_result"
    }
   ],
   "source": [
    "# f.\t[4 points]. All cells text of the second row of the table. Use the HTML tags to do this search. \n",
    "# row_2 = bs.find_all(\"tr\")[1].find_all(\"td\")\n",
    "# [cell.text for cell in row_2]\n",
    "[cell.text for cell in bs.find_all(\"tr\")[1].find_all(\"td\")]"
   ]
  },
  {
   "cell_type": "code",
   "execution_count": 8,
   "metadata": {},
   "outputs": [
    {
     "data": {
      "text/plain": [
       "[<img src=\"http://www.aaa.com/badge1.gif\"/>,\n",
       " <img src=\"http://www.bbb.com/badge2.gif\"/>,\n",
       " <img src=\"http://www.ccc.com/badge3.gif\"/>]"
      ]
     },
     "execution_count": 8,
     "metadata": {},
     "output_type": "execute_result"
    }
   ],
   "source": [
    "# g.\t[4 points]. All images from the table. Use the HTML tags to do this search.\n",
    "bs.find_all(\"img\") "
   ]
  }
 ],
 "metadata": {
  "kernelspec": {
   "display_name": "Python 3",
   "language": "python",
   "name": "python3"
  },
  "language_info": {
   "codemirror_mode": {
    "name": "ipython",
    "version": 3
   },
   "file_extension": ".py",
   "mimetype": "text/x-python",
   "name": "python",
   "nbconvert_exporter": "python",
   "pygments_lexer": "ipython3",
   "version": "3.11.9"
  }
 },
 "nbformat": 4,
 "nbformat_minor": 2
}
